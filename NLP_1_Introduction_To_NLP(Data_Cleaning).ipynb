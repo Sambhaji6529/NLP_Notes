{
  "nbformat": 4,
  "nbformat_minor": 0,
  "metadata": {
    "colab": {
      "provenance": [],
      "authorship_tag": "ABX9TyOr1qBX4gTt0PvUdOY+VfKX",
      "include_colab_link": true
    },
    "kernelspec": {
      "name": "python3",
      "display_name": "Python 3"
    },
    "language_info": {
      "name": "python"
    }
  },
  "cells": [
    {
      "cell_type": "markdown",
      "metadata": {
        "id": "view-in-github",
        "colab_type": "text"
      },
      "source": [
        "<a href=\"https://colab.research.google.com/github/Sambhaji6529/NLP_Notes/blob/main/NLP_1_Introduction_To_NLP(Data_Cleaning).ipynb\" target=\"_parent\"><img src=\"https://colab.research.google.com/assets/colab-badge.svg\" alt=\"Open In Colab\"/></a>"
      ]
    },
    {
      "cell_type": "markdown",
      "source": [
        "\n",
        "# **Introduction To NLP:**"
      ],
      "metadata": {
        "id": "zDsfNM6hpR-O"
      }
    },
    {
      "cell_type": "markdown",
      "source": [
        "Natural Language Processing, or NLP, is the sub-field of AI that is focused on enabling computers to understand and process human languages. Let’s check out how NLP works and learn how to write programs that can extract information out of raw text using Python!"
      ],
      "metadata": {
        "id": "Ozw832jLpXUE"
      }
    },
    {
      "cell_type": "markdown",
      "source": [
        "# **Can Computers Understand Language?**"
      ],
      "metadata": {
        "id": "fyXGVgwYpbLO"
      }
    },
    {
      "cell_type": "markdown",
      "source": [
        "As long as computers have been around, programmers have been trying to write programs that understand languages like English. The reason is pretty obvious — humans have been writing things down for thousands of years and it would be really helpful if a computer could read and understand all that data.\n",
        "\n",
        "Computers can’t yet truly understand English in the way that humans do — but they can already do a lot! In certain limited areas, what you can do with NLP already seems like magic. You might be able to save a lot of time by applying NLP techniques to your own projects.\n",
        "\n",
        "And even better, the latest advances in NLP are easily accessible through open source Python libraries like spaCy, textacy, and neuralcoref. What you can do with just a few lines of python is amazing."
      ],
      "metadata": {
        "id": "HqMDs3Skpio4"
      }
    },
    {
      "cell_type": "markdown",
      "source": [
        "# **Use Cases of NLP**"
      ],
      "metadata": {
        "id": "4kDoMn1_qVBE"
      }
    },
    {
      "cell_type": "markdown",
      "source": [
        "In simple terms, NLP represents the automatic handling of natural human language like speech or text, and although the concept itself is fascinating, the real value behind this technology comes from the use cases."
      ],
      "metadata": {
        "id": "lXAaVn7EqWgn"
      }
    },
    {
      "cell_type": "markdown",
      "source": [
        "NLP can help you with lots of tasks and the fields of application just seem to increase on a daily basis. Let’s mention some examples:"
      ],
      "metadata": {
        "id": "oMUQ6mm4qZyz"
      }
    },
    {
      "cell_type": "markdown",
      "source": [
        "\n",
        "\n",
        "1.   NLP enables the recognition and prediction of diseases based on electronic health records and patient’s own speech. This capability is being explored in health conditions that go from cardiovascular diseases to depression and even schizophrenia. For example, Amazon Comprehend Medical is a service that uses NLP to extract disease conditions, medications and treatment outcomes from patient notes, clinical trial reports and other electronic health records.\n",
        "\n",
        "\n",
        "2.   Organizations can determine what customers are saying about a service or product by identifying and extracting information in sources like social media. This sentiment analysis can provide a lot of information about customers choices and their decision drivers.\n",
        "\n",
        "3. An inventor at IBM developed a cognitive assistant that works like a personalized search engine by learning all about you and then remind you of a name, a song, or anything you can’t remember the moment you need it to.\n",
        "\n",
        "4. Companies like Yahoo and Google filter and classify your emails with NLP by analyzing text in emails that flow through their servers and stopping spam before they even enter your inbox.\n",
        "\n",
        "5. To help identifying fake news, the NLP Group at MIT developed a new system to determine if a source is accurate or politically biased, detecting if a news source can be trusted or not.\n",
        "\n",
        "6. Amazon’s Alexa and Apple’s Siri are examples of intelligent voice driven interfaces that use NLP to respond to vocal prompts and do everything like find a particular shop, tell us the weather forecast, suggest the best route to the office or turn on the lights at home.\n",
        "\n",
        "7. Having an insight into what is happening and what people are talking about can be very valuable to financial traders. NLP is being used to track news, reports, comments about possible mergers between companies, everything can be then incorporated into a trading algorithm to generate massive profits. Remember: buy the rumor, sell the news.\n",
        "\n",
        "8. NLP is also being used in both the search and selection phases of talent recruitment, identifying the skills of potential hires and also spotting prospects before they become active on the job market.\n",
        "\n",
        "9. Powered by IBM Watson NLP technology, LegalMation developed a platform to automate routine litigation tasks and help legal teams save time, drive down costs and shift strategic focus.\n",
        "\n",
        "NLP is particularly booming in the healthcare industry. This technology is improving care delivery, disease diagnosis and bringing costs down while healthcare organizations are going through a growing adoption of electronic health records. The fact that clinical documentation can be improved means that patients can be better understood and benefited through better healthcare. The goal should be to optimize their experience, and several organizations are already working on this.\n",
        "\n"
      ],
      "metadata": {
        "id": "Qb9d1JBnqeBr"
      }
    },
    {
      "cell_type": "markdown",
      "source": [
        "# **Step1 Data Cleaning in NLP**"
      ],
      "metadata": {
        "id": "sPDUfMI6wVzr"
      }
    },
    {
      "cell_type": "markdown",
      "source": [
        "The raw text data comes directly after the various sources are not cleaned. We apply multiple steps to make data clean. Un-cleaned text data contains useless information that deviates results, so it’s always the first step to clean the data. Some standard preprocessing techniques should be applied to make data cleaner. Cleaned data also prevent models from overfitting.\n",
        "\n",
        "In this article, we will see the following topics under text processing and exploratory data analysis.\n",
        "\n",
        "I am converting the raw text data into a pandas data frame and performing various data cleaning techniques.\n",
        "\n"
      ],
      "metadata": {
        "id": "N2G-zARiwXiH"
      }
    },
    {
      "cell_type": "code",
      "execution_count": 1,
      "metadata": {
        "id": "7hGR9J7MbJuk"
      },
      "outputs": [],
      "source": [
        "\n",
        "import pandas as pd \n",
        "text = ['This is the NLP TASKS ARTICLE written by ABhishek Jaiswal** ','IN this article ''ll be explaining various DATA-CLEANING techniques',\n",
        " 'So stay tuned for FURther More &&','Nah I don\"t think he goes to usf, he lives around']\n",
        "df = pd.DataFrame({'text':text})"
      ]
    },
    {
      "cell_type": "code",
      "source": [
        "df"
      ],
      "metadata": {
        "colab": {
          "base_uri": "https://localhost:8080/",
          "height": 175
        },
        "id": "JD0MNZeTwtAh",
        "outputId": "49a8d86b-a1c9-4d54-ccaf-ac63ab79fa18"
      },
      "execution_count": 2,
      "outputs": [
        {
          "output_type": "execute_result",
          "data": {
            "text/plain": [
              "                                                text\n",
              "0  This is the NLP TASKS ARTICLE written by ABhis...\n",
              "1  IN this article ll be explaining various DATA-...\n",
              "2                  So stay tuned for FURther More &&\n",
              "3  Nah I don\"t think he goes to usf, he lives around"
            ],
            "text/html": [
              "\n",
              "  <div id=\"df-e18827fa-84fa-4e2b-a1e1-f2369a973ed4\">\n",
              "    <div class=\"colab-df-container\">\n",
              "      <div>\n",
              "<style scoped>\n",
              "    .dataframe tbody tr th:only-of-type {\n",
              "        vertical-align: middle;\n",
              "    }\n",
              "\n",
              "    .dataframe tbody tr th {\n",
              "        vertical-align: top;\n",
              "    }\n",
              "\n",
              "    .dataframe thead th {\n",
              "        text-align: right;\n",
              "    }\n",
              "</style>\n",
              "<table border=\"1\" class=\"dataframe\">\n",
              "  <thead>\n",
              "    <tr style=\"text-align: right;\">\n",
              "      <th></th>\n",
              "      <th>text</th>\n",
              "    </tr>\n",
              "  </thead>\n",
              "  <tbody>\n",
              "    <tr>\n",
              "      <th>0</th>\n",
              "      <td>This is the NLP TASKS ARTICLE written by ABhis...</td>\n",
              "    </tr>\n",
              "    <tr>\n",
              "      <th>1</th>\n",
              "      <td>IN this article ll be explaining various DATA-...</td>\n",
              "    </tr>\n",
              "    <tr>\n",
              "      <th>2</th>\n",
              "      <td>So stay tuned for FURther More &amp;&amp;</td>\n",
              "    </tr>\n",
              "    <tr>\n",
              "      <th>3</th>\n",
              "      <td>Nah I don\"t think he goes to usf, he lives around</td>\n",
              "    </tr>\n",
              "  </tbody>\n",
              "</table>\n",
              "</div>\n",
              "      <button class=\"colab-df-convert\" onclick=\"convertToInteractive('df-e18827fa-84fa-4e2b-a1e1-f2369a973ed4')\"\n",
              "              title=\"Convert this dataframe to an interactive table.\"\n",
              "              style=\"display:none;\">\n",
              "        \n",
              "  <svg xmlns=\"http://www.w3.org/2000/svg\" height=\"24px\"viewBox=\"0 0 24 24\"\n",
              "       width=\"24px\">\n",
              "    <path d=\"M0 0h24v24H0V0z\" fill=\"none\"/>\n",
              "    <path d=\"M18.56 5.44l.94 2.06.94-2.06 2.06-.94-2.06-.94-.94-2.06-.94 2.06-2.06.94zm-11 1L8.5 8.5l.94-2.06 2.06-.94-2.06-.94L8.5 2.5l-.94 2.06-2.06.94zm10 10l.94 2.06.94-2.06 2.06-.94-2.06-.94-.94-2.06-.94 2.06-2.06.94z\"/><path d=\"M17.41 7.96l-1.37-1.37c-.4-.4-.92-.59-1.43-.59-.52 0-1.04.2-1.43.59L10.3 9.45l-7.72 7.72c-.78.78-.78 2.05 0 2.83L4 21.41c.39.39.9.59 1.41.59.51 0 1.02-.2 1.41-.59l7.78-7.78 2.81-2.81c.8-.78.8-2.07 0-2.86zM5.41 20L4 18.59l7.72-7.72 1.47 1.35L5.41 20z\"/>\n",
              "  </svg>\n",
              "      </button>\n",
              "      \n",
              "  <style>\n",
              "    .colab-df-container {\n",
              "      display:flex;\n",
              "      flex-wrap:wrap;\n",
              "      gap: 12px;\n",
              "    }\n",
              "\n",
              "    .colab-df-convert {\n",
              "      background-color: #E8F0FE;\n",
              "      border: none;\n",
              "      border-radius: 50%;\n",
              "      cursor: pointer;\n",
              "      display: none;\n",
              "      fill: #1967D2;\n",
              "      height: 32px;\n",
              "      padding: 0 0 0 0;\n",
              "      width: 32px;\n",
              "    }\n",
              "\n",
              "    .colab-df-convert:hover {\n",
              "      background-color: #E2EBFA;\n",
              "      box-shadow: 0px 1px 2px rgba(60, 64, 67, 0.3), 0px 1px 3px 1px rgba(60, 64, 67, 0.15);\n",
              "      fill: #174EA6;\n",
              "    }\n",
              "\n",
              "    [theme=dark] .colab-df-convert {\n",
              "      background-color: #3B4455;\n",
              "      fill: #D2E3FC;\n",
              "    }\n",
              "\n",
              "    [theme=dark] .colab-df-convert:hover {\n",
              "      background-color: #434B5C;\n",
              "      box-shadow: 0px 1px 3px 1px rgba(0, 0, 0, 0.15);\n",
              "      filter: drop-shadow(0px 1px 2px rgba(0, 0, 0, 0.3));\n",
              "      fill: #FFFFFF;\n",
              "    }\n",
              "  </style>\n",
              "\n",
              "      <script>\n",
              "        const buttonEl =\n",
              "          document.querySelector('#df-e18827fa-84fa-4e2b-a1e1-f2369a973ed4 button.colab-df-convert');\n",
              "        buttonEl.style.display =\n",
              "          google.colab.kernel.accessAllowed ? 'block' : 'none';\n",
              "\n",
              "        async function convertToInteractive(key) {\n",
              "          const element = document.querySelector('#df-e18827fa-84fa-4e2b-a1e1-f2369a973ed4');\n",
              "          const dataTable =\n",
              "            await google.colab.kernel.invokeFunction('convertToInteractive',\n",
              "                                                     [key], {});\n",
              "          if (!dataTable) return;\n",
              "\n",
              "          const docLinkHtml = 'Like what you see? Visit the ' +\n",
              "            '<a target=\"_blank\" href=https://colab.research.google.com/notebooks/data_table.ipynb>data table notebook</a>'\n",
              "            + ' to learn more about interactive tables.';\n",
              "          element.innerHTML = '';\n",
              "          dataTable['output_type'] = 'display_data';\n",
              "          await google.colab.output.renderOutput(dataTable, element);\n",
              "          const docLink = document.createElement('div');\n",
              "          docLink.innerHTML = docLinkHtml;\n",
              "          element.appendChild(docLink);\n",
              "        }\n",
              "      </script>\n",
              "    </div>\n",
              "  </div>\n",
              "  "
            ]
          },
          "metadata": {},
          "execution_count": 2
        }
      ]
    },
    {
      "cell_type": "markdown",
      "source": [
        "# **Lowercasing**\n",
        "The method lower()converts all uppercase characters into lowercase and returns.\n",
        "\n",
        "Applying lower() method using lambda function"
      ],
      "metadata": {
        "id": "p6CSKruUw95x"
      }
    },
    {
      "cell_type": "code",
      "source": [
        "df['lower'] = df['text'].apply(lambda x: \" \".join(x.lower()  for x in x.split()))\n",
        "df"
      ],
      "metadata": {
        "colab": {
          "base_uri": "https://localhost:8080/",
          "height": 175
        },
        "id": "pBR-egFTw9JU",
        "outputId": "d8609c4e-b673-430c-8b8f-819ef1d68902"
      },
      "execution_count": 3,
      "outputs": [
        {
          "output_type": "execute_result",
          "data": {
            "text/plain": [
              "                                                text  \\\n",
              "0  This is the NLP TASKS ARTICLE written by ABhis...   \n",
              "1  IN this article ll be explaining various DATA-...   \n",
              "2                  So stay tuned for FURther More &&   \n",
              "3  Nah I don\"t think he goes to usf, he lives around   \n",
              "\n",
              "                                               lower  \n",
              "0  this is the nlp tasks article written by abhis...  \n",
              "1  in this article ll be explaining various data-...  \n",
              "2                  so stay tuned for further more &&  \n",
              "3  nah i don\"t think he goes to usf, he lives around  "
            ],
            "text/html": [
              "\n",
              "  <div id=\"df-97c89692-ef27-4253-b7de-9ec0a5dd0982\">\n",
              "    <div class=\"colab-df-container\">\n",
              "      <div>\n",
              "<style scoped>\n",
              "    .dataframe tbody tr th:only-of-type {\n",
              "        vertical-align: middle;\n",
              "    }\n",
              "\n",
              "    .dataframe tbody tr th {\n",
              "        vertical-align: top;\n",
              "    }\n",
              "\n",
              "    .dataframe thead th {\n",
              "        text-align: right;\n",
              "    }\n",
              "</style>\n",
              "<table border=\"1\" class=\"dataframe\">\n",
              "  <thead>\n",
              "    <tr style=\"text-align: right;\">\n",
              "      <th></th>\n",
              "      <th>text</th>\n",
              "      <th>lower</th>\n",
              "    </tr>\n",
              "  </thead>\n",
              "  <tbody>\n",
              "    <tr>\n",
              "      <th>0</th>\n",
              "      <td>This is the NLP TASKS ARTICLE written by ABhis...</td>\n",
              "      <td>this is the nlp tasks article written by abhis...</td>\n",
              "    </tr>\n",
              "    <tr>\n",
              "      <th>1</th>\n",
              "      <td>IN this article ll be explaining various DATA-...</td>\n",
              "      <td>in this article ll be explaining various data-...</td>\n",
              "    </tr>\n",
              "    <tr>\n",
              "      <th>2</th>\n",
              "      <td>So stay tuned for FURther More &amp;&amp;</td>\n",
              "      <td>so stay tuned for further more &amp;&amp;</td>\n",
              "    </tr>\n",
              "    <tr>\n",
              "      <th>3</th>\n",
              "      <td>Nah I don\"t think he goes to usf, he lives around</td>\n",
              "      <td>nah i don\"t think he goes to usf, he lives around</td>\n",
              "    </tr>\n",
              "  </tbody>\n",
              "</table>\n",
              "</div>\n",
              "      <button class=\"colab-df-convert\" onclick=\"convertToInteractive('df-97c89692-ef27-4253-b7de-9ec0a5dd0982')\"\n",
              "              title=\"Convert this dataframe to an interactive table.\"\n",
              "              style=\"display:none;\">\n",
              "        \n",
              "  <svg xmlns=\"http://www.w3.org/2000/svg\" height=\"24px\"viewBox=\"0 0 24 24\"\n",
              "       width=\"24px\">\n",
              "    <path d=\"M0 0h24v24H0V0z\" fill=\"none\"/>\n",
              "    <path d=\"M18.56 5.44l.94 2.06.94-2.06 2.06-.94-2.06-.94-.94-2.06-.94 2.06-2.06.94zm-11 1L8.5 8.5l.94-2.06 2.06-.94-2.06-.94L8.5 2.5l-.94 2.06-2.06.94zm10 10l.94 2.06.94-2.06 2.06-.94-2.06-.94-.94-2.06-.94 2.06-2.06.94z\"/><path d=\"M17.41 7.96l-1.37-1.37c-.4-.4-.92-.59-1.43-.59-.52 0-1.04.2-1.43.59L10.3 9.45l-7.72 7.72c-.78.78-.78 2.05 0 2.83L4 21.41c.39.39.9.59 1.41.59.51 0 1.02-.2 1.41-.59l7.78-7.78 2.81-2.81c.8-.78.8-2.07 0-2.86zM5.41 20L4 18.59l7.72-7.72 1.47 1.35L5.41 20z\"/>\n",
              "  </svg>\n",
              "      </button>\n",
              "      \n",
              "  <style>\n",
              "    .colab-df-container {\n",
              "      display:flex;\n",
              "      flex-wrap:wrap;\n",
              "      gap: 12px;\n",
              "    }\n",
              "\n",
              "    .colab-df-convert {\n",
              "      background-color: #E8F0FE;\n",
              "      border: none;\n",
              "      border-radius: 50%;\n",
              "      cursor: pointer;\n",
              "      display: none;\n",
              "      fill: #1967D2;\n",
              "      height: 32px;\n",
              "      padding: 0 0 0 0;\n",
              "      width: 32px;\n",
              "    }\n",
              "\n",
              "    .colab-df-convert:hover {\n",
              "      background-color: #E2EBFA;\n",
              "      box-shadow: 0px 1px 2px rgba(60, 64, 67, 0.3), 0px 1px 3px 1px rgba(60, 64, 67, 0.15);\n",
              "      fill: #174EA6;\n",
              "    }\n",
              "\n",
              "    [theme=dark] .colab-df-convert {\n",
              "      background-color: #3B4455;\n",
              "      fill: #D2E3FC;\n",
              "    }\n",
              "\n",
              "    [theme=dark] .colab-df-convert:hover {\n",
              "      background-color: #434B5C;\n",
              "      box-shadow: 0px 1px 3px 1px rgba(0, 0, 0, 0.15);\n",
              "      filter: drop-shadow(0px 1px 2px rgba(0, 0, 0, 0.3));\n",
              "      fill: #FFFFFF;\n",
              "    }\n",
              "  </style>\n",
              "\n",
              "      <script>\n",
              "        const buttonEl =\n",
              "          document.querySelector('#df-97c89692-ef27-4253-b7de-9ec0a5dd0982 button.colab-df-convert');\n",
              "        buttonEl.style.display =\n",
              "          google.colab.kernel.accessAllowed ? 'block' : 'none';\n",
              "\n",
              "        async function convertToInteractive(key) {\n",
              "          const element = document.querySelector('#df-97c89692-ef27-4253-b7de-9ec0a5dd0982');\n",
              "          const dataTable =\n",
              "            await google.colab.kernel.invokeFunction('convertToInteractive',\n",
              "                                                     [key], {});\n",
              "          if (!dataTable) return;\n",
              "\n",
              "          const docLinkHtml = 'Like what you see? Visit the ' +\n",
              "            '<a target=\"_blank\" href=https://colab.research.google.com/notebooks/data_table.ipynb>data table notebook</a>'\n",
              "            + ' to learn more about interactive tables.';\n",
              "          element.innerHTML = '';\n",
              "          dataTable['output_type'] = 'display_data';\n",
              "          await google.colab.output.renderOutput(dataTable, element);\n",
              "          const docLink = document.createElement('div');\n",
              "          docLink.innerHTML = docLinkHtml;\n",
              "          element.appendChild(docLink);\n",
              "        }\n",
              "      </script>\n",
              "    </div>\n",
              "  </div>\n",
              "  "
            ]
          },
          "metadata": {},
          "execution_count": 3
        }
      ]
    },
    {
      "cell_type": "markdown",
      "source": [
        "# **Punctuation Removal**\n",
        "\n",
        "Removing punctuation(*,&,%#@#()) is a crucial step since punctuation doesn’t add any extra information or value to our data. Hence, removing punctuation reduces the data size; therefore, it improves computational efficiency.\n",
        "\n",
        "This step can be done using the Regex or Replace method."
      ],
      "metadata": {
        "id": "kK5Ml5HOxPcw"
      }
    },
    {
      "cell_type": "code",
      "source": [
        "import string # string.punctuation returns a string containing all punctuations.\n",
        "string.punctuation"
      ],
      "metadata": {
        "colab": {
          "base_uri": "https://localhost:8080/",
          "height": 36
        },
        "id": "3gFaLx7XxZ1I",
        "outputId": "3c02c83e-1fac-429d-f829-3a904b6419d4"
      },
      "execution_count": 4,
      "outputs": [
        {
          "output_type": "execute_result",
          "data": {
            "text/plain": [
              "'!\"#$%&\\'()*+,-./:;<=>?@[\\\\]^_`{|}~'"
            ],
            "application/vnd.google.colaboratory.intrinsic+json": {
              "type": "string"
            }
          },
          "metadata": {},
          "execution_count": 4
        }
      ]
    },
    {
      "cell_type": "code",
      "source": [
        "df.text.apply(lambda x: \"\".join(i for i in x if i not in string.punctuation))"
      ],
      "metadata": {
        "colab": {
          "base_uri": "https://localhost:8080/"
        },
        "id": "FoePxpX4xjUa",
        "outputId": "6e5f9b38-da97-4e7c-9401-4934cdd8f326"
      },
      "execution_count": 5,
      "outputs": [
        {
          "output_type": "execute_result",
          "data": {
            "text/plain": [
              "0    This is the NLP TASKS ARTICLE written by ABhis...\n",
              "1    IN this article ll be explaining various DATAC...\n",
              "2                      So stay tuned for FURther More \n",
              "3      Nah I dont think he goes to usf he lives around\n",
              "Name: text, dtype: object"
            ]
          },
          "metadata": {},
          "execution_count": 5
        }
      ]
    },
    {
      "cell_type": "code",
      "source": [
        "# alternative way - using re\n",
        "import re\n",
        "df.text.apply(lambda x:''.join(re.findall(r'[a-zA-Z+\" \"]',x)))"
      ],
      "metadata": {
        "colab": {
          "base_uri": "https://localhost:8080/"
        },
        "id": "i2su-NgIxmO7",
        "outputId": "565173a5-d57f-4f79-8e1a-715dda84ae42"
      },
      "execution_count": 6,
      "outputs": [
        {
          "output_type": "execute_result",
          "data": {
            "text/plain": [
              "0    This is the NLP TASKS ARTICLE written by ABhis...\n",
              "1    IN this article ll be explaining various DATAC...\n",
              "2                      So stay tuned for FURther More \n",
              "3     Nah I don\"t think he goes to usf he lives around\n",
              "Name: text, dtype: object"
            ]
          },
          "metadata": {},
          "execution_count": 6
        }
      ]
    },
    {
      "cell_type": "markdown",
      "source": [
        "# **Stop Words Removal**\n",
        "Words that frequently occur in sentences and carry no significant meaning in sentences. These are not important for prediction, so we remove stopwords to reduce data size and prevent overfitting. Note: Before filtering stopwords, make sure you lowercase the data since our stopwords are lowercase.\n",
        "\n",
        "Using the NLTK library, we can filter out our Stopwords from the dataset."
      ],
      "metadata": {
        "id": "9P7JP7TfxuHg"
      }
    },
    {
      "cell_type": "code",
      "source": [
        "\n",
        "# !pip install nltk\n",
        "import nltk \n",
        "nltk.download('stopwords') \n",
        "from nltk.corpus import stopwords\n",
        "allstopwords = stopwords.words('english')\n",
        "df.lower.apply(lambda x: \" \".join(i for i in x.split() if i not in allstopwords))"
      ],
      "metadata": {
        "id": "JmzY6TSlxrpJ",
        "colab": {
          "base_uri": "https://localhost:8080/"
        },
        "outputId": "c59a2c13-8924-46ad-cf10-ac6b9ed8a76c"
      },
      "execution_count": 7,
      "outputs": [
        {
          "output_type": "stream",
          "name": "stderr",
          "text": [
            "[nltk_data] Downloading package stopwords to /root/nltk_data...\n",
            "[nltk_data]   Unzipping corpora/stopwords.zip.\n"
          ]
        },
        {
          "output_type": "execute_result",
          "data": {
            "text/plain": [
              "0         nlp tasks article written abhishek jaiswal**\n",
              "1    article explaining various data-cleaning techn...\n",
              "2                                        stay tuned &&\n",
              "3               nah don\"t think goes usf, lives around\n",
              "Name: lower, dtype: object"
            ]
          },
          "metadata": {},
          "execution_count": 7
        }
      ]
    },
    {
      "cell_type": "markdown",
      "source": [
        "# **Spelling Correction**"
      ],
      "metadata": {
        "id": "62gxtkrNzEKD"
      }
    },
    {
      "cell_type": "markdown",
      "source": [
        "Most of the text data extracted in customer reviews, blogs, or tweets have some chances of spelling mistakes.\n",
        "\n",
        "Correcting spelling mistakes improves model accuracy.\n",
        "\n",
        "There are various libraries to fix spelling mistakes, but the most convenient method is to use a text blob.\n",
        "\n",
        "The method correct() works on text blob objects and corrects the spelling mistakes."
      ],
      "metadata": {
        "id": "abk3GSknzKF3"
      }
    },
    {
      "cell_type": "code",
      "source": [
        "#Install textblob library \n",
        "!pip install textblob \n",
        "from textblob import TextBlob"
      ],
      "metadata": {
        "colab": {
          "base_uri": "https://localhost:8080/"
        },
        "id": "jvfB5xl6zH0f",
        "outputId": "08457254-8a7b-43a7-f9a2-45a84bf1d71b"
      },
      "execution_count": 8,
      "outputs": [
        {
          "output_type": "stream",
          "name": "stdout",
          "text": [
            "Looking in indexes: https://pypi.org/simple, https://us-python.pkg.dev/colab-wheels/public/simple/\n",
            "Requirement already satisfied: textblob in /usr/local/lib/python3.10/dist-packages (0.17.1)\n",
            "Requirement already satisfied: nltk>=3.1 in /usr/local/lib/python3.10/dist-packages (from textblob) (3.8.1)\n",
            "Requirement already satisfied: click in /usr/local/lib/python3.10/dist-packages (from nltk>=3.1->textblob) (8.1.3)\n",
            "Requirement already satisfied: joblib in /usr/local/lib/python3.10/dist-packages (from nltk>=3.1->textblob) (1.2.0)\n",
            "Requirement already satisfied: regex>=2021.8.3 in /usr/local/lib/python3.10/dist-packages (from nltk>=3.1->textblob) (2022.10.31)\n",
            "Requirement already satisfied: tqdm in /usr/local/lib/python3.10/dist-packages (from nltk>=3.1->textblob) (4.65.0)\n"
          ]
        }
      ]
    },
    {
      "cell_type": "code",
      "source": [
        "df['lower'].apply(lambda x: str(TextBlob(x).correct()))"
      ],
      "metadata": {
        "colab": {
          "base_uri": "https://localhost:8080/"
        },
        "id": "RvB5w2GBzWmP",
        "outputId": "52902c0a-fa20-4f0a-b3c9-8fb64d7199f1"
      },
      "execution_count": 9,
      "outputs": [
        {
          "output_type": "execute_result",
          "data": {
            "text/plain": [
              "0    this is the nap tasks article written by abhis...\n",
              "1    in this article ll be explaining various data-...\n",
              "2                    so stay tuned for further more &&\n",
              "3      ah i don\"t think he goes to us, he lives around\n",
              "Name: lower, dtype: object"
            ]
          },
          "metadata": {},
          "execution_count": 9
        }
      ]
    },
    {
      "cell_type": "markdown",
      "source": [
        "# **Tokenization**\n"
      ],
      "metadata": {
        "id": "KIQjQgj5zlx8"
      }
    },
    {
      "cell_type": "markdown",
      "source": [
        "Tokenization means splitting text into meaningful unit words. There are sentence tokenizers as well as word tokenizers.\n",
        "\n",
        "Sentence tokenizer splits a paragraph into meaningful sentences, while word tokenizer splits a sentence into unit meaningful words. Many libraries can perform tokenization like SpaCy, NLTK, and TextBlob.\n",
        "\n",
        "Splitting a sentence on space to get individual unit words can be understood as tokenization."
      ],
      "metadata": {
        "id": "Ifm3F1kdzpMV"
      }
    },
    {
      "cell_type": "code",
      "source": [
        "import nltk\n",
        "nltk.download('punkt')\n",
        "mystring = \"My favorite animal is cat\" \n",
        "nltk.word_tokenize(mystring)"
      ],
      "metadata": {
        "colab": {
          "base_uri": "https://localhost:8080/"
        },
        "id": "n2-Cf3e_zazO",
        "outputId": "9309e27d-c059-408a-91b8-ce3896930b5b"
      },
      "execution_count": 10,
      "outputs": [
        {
          "output_type": "stream",
          "name": "stderr",
          "text": [
            "[nltk_data] Downloading package punkt to /root/nltk_data...\n",
            "[nltk_data]   Unzipping tokenizers/punkt.zip.\n"
          ]
        },
        {
          "output_type": "execute_result",
          "data": {
            "text/plain": [
              "['My', 'favorite', 'animal', 'is', 'cat']"
            ]
          },
          "metadata": {},
          "execution_count": 10
        }
      ]
    },
    {
      "cell_type": "code",
      "source": [
        "mystring.split(\" \")"
      ],
      "metadata": {
        "colab": {
          "base_uri": "https://localhost:8080/"
        },
        "id": "ggxHTp7uzxSW",
        "outputId": "2711b1bf-5070-46a8-98cb-8c0ae437f0ea"
      },
      "execution_count": 11,
      "outputs": [
        {
          "output_type": "execute_result",
          "data": {
            "text/plain": [
              "['My', 'favorite', 'animal', 'is', 'cat']"
            ]
          },
          "metadata": {},
          "execution_count": 11
        }
      ]
    },
    {
      "cell_type": "markdown",
      "source": [
        "# **Stemming**"
      ],
      "metadata": {
        "id": "Z77ZT34Iz7Tw"
      }
    },
    {
      "cell_type": "markdown",
      "source": [
        "Stemming is converting words into their root word using some set of rules irrespective of meaning. I.e.,"
      ],
      "metadata": {
        "id": "4BWsIvZtz_us"
      }
    },
    {
      "cell_type": "markdown",
      "source": [
        "\n",
        "\n",
        "*   “fish,” “fishes,” and “fishing” are stemmed into “fish”.\n",
        "\n",
        "\n",
        "*   “playing”, “played”,” plays” are stemmed into “play”.\n",
        "\n",
        "\n",
        "\n",
        "*   Stemming helps to reduce the vocabulary hence improving the accuracy.\n",
        "\n",
        "\n",
        "\n"
      ],
      "metadata": {
        "id": "x4JMI5JJ0Am-"
      }
    },
    {
      "cell_type": "markdown",
      "source": [
        "The simplest way to perform stemming is to use NLTK or a TextBlob library.\n",
        "\n",
        "NLTK provides various stemming techniques, i.e. Snowball, PorterStemmer; different technique follows different sets of rules to convert words into their root word."
      ],
      "metadata": {
        "id": "K-cnLrLE0PzH"
      }
    },
    {
      "cell_type": "code",
      "source": [
        "import nltk\n",
        "# “article” is stemmed into “articl“, “lives“ — -> “live“.\n",
        "from nltk.stem import PorterStemmer\n",
        "st = PorterStemmer()\n",
        "df['text'].apply(lambda x:\" \".join([st.stem(word) for word in x.split()]))"
      ],
      "metadata": {
        "colab": {
          "base_uri": "https://localhost:8080/"
        },
        "id": "8MFAN467z2pm",
        "outputId": "26354997-3d08-445f-da61-5c805671f1d7"
      },
      "execution_count": 12,
      "outputs": [
        {
          "output_type": "execute_result",
          "data": {
            "text/plain": [
              "0    thi is the nlp task articl written by abhishek...\n",
              "1    in thi articl ll be explain variou data-clean ...\n",
              "2                     so stay tune for further more &&\n",
              "3      nah i don\"t think he goe to usf, he live around\n",
              "Name: text, dtype: object"
            ]
          },
          "metadata": {},
          "execution_count": 12
        }
      ]
    },
    {
      "cell_type": "markdown",
      "source": [
        "# **Lemmatization**"
      ],
      "metadata": {
        "id": "hBH0NhNV0c6z"
      }
    },
    {
      "cell_type": "markdown",
      "source": [
        "Lemmatization is converting words into their root word using vocabulary mapping. Lemmatization is done with the help of part of speech and its meaning; hence it doesn’t generate meaningless root words. But lemmatization is slower than stemming."
      ],
      "metadata": {
        "id": "ynro90dA0flc"
      }
    },
    {
      "cell_type": "markdown",
      "source": [
        "\n",
        "\n",
        "*   “good,” “better,” or “best” is lemmatized into “good“.\n",
        "*  Lemmatization will convert all synonyms into a single root word. i.e. * “automobile“, “car“,” truck“,” vehicles” are lemmatized into “automobile”.\n",
        "\n",
        "\n",
        "*  Lemmatization usually gets better results.\n",
        "\n",
        "\n",
        "\n",
        "\n",
        "\n"
      ],
      "metadata": {
        "id": "C4dOEnSO0iub"
      }
    },
    {
      "cell_type": "markdown",
      "source": [
        "Ie. leafs Stemmed to. leaves stemmed to leav while leafs , leaves lemmatized to leaf\n",
        "\n",
        "Lemmatization can be done using NLTK, TextBlob library."
      ],
      "metadata": {
        "id": "BU61Vu3106wc"
      }
    },
    {
      "cell_type": "markdown",
      "source": [
        "# **Wordnet Lemmatizer with NLTK**"
      ],
      "metadata": {
        "id": "9n0ZL2B60_US"
      }
    },
    {
      "cell_type": "markdown",
      "source": [
        "Wordnet is an large, freely and publicly available lexical database for the English language aiming to establish structured semantic relationships between words.\n",
        "\n",
        "It offers lemmatization capabilities as well and is one of the earliest and most commonly used lemmatizers.\n",
        "\n",
        "NLTK offers an interface to it, but you have to download it first in order to use it. Follow the below instructions to install nltk and download wordnet."
      ],
      "metadata": {
        "id": "q3KEdQC-1C_v"
      }
    },
    {
      "cell_type": "code",
      "source": [
        "# How to install and import NLTK\n",
        "# In terminal or prompt:\n",
        "# pip install nltk\n",
        "\n",
        "# # Download Wordnet through NLTK in python console:\n",
        "import nltk\n",
        "nltk.download('wordnet')"
      ],
      "metadata": {
        "colab": {
          "base_uri": "https://localhost:8080/"
        },
        "id": "mdRIuh-a04Ow",
        "outputId": "2074772e-ea35-4fe1-924a-e5e0731c9e10"
      },
      "execution_count": 13,
      "outputs": [
        {
          "output_type": "stream",
          "name": "stderr",
          "text": [
            "[nltk_data] Downloading package wordnet to /root/nltk_data...\n"
          ]
        },
        {
          "output_type": "execute_result",
          "data": {
            "text/plain": [
              "True"
            ]
          },
          "metadata": {},
          "execution_count": 13
        }
      ]
    },
    {
      "cell_type": "code",
      "source": [
        "nltk.download('omw-1.4')"
      ],
      "metadata": {
        "colab": {
          "base_uri": "https://localhost:8080/"
        },
        "id": "KCDEnKoJ1JzD",
        "outputId": "93bde497-98d4-4ebf-85ce-a39b61a58c8e"
      },
      "execution_count": 14,
      "outputs": [
        {
          "output_type": "stream",
          "name": "stderr",
          "text": [
            "[nltk_data] Downloading package omw-1.4 to /root/nltk_data...\n"
          ]
        },
        {
          "output_type": "execute_result",
          "data": {
            "text/plain": [
              "True"
            ]
          },
          "metadata": {},
          "execution_count": 14
        }
      ]
    },
    {
      "cell_type": "code",
      "source": [
        "# In order to lemmatize, you need to create an instance of the WordNetLemmatizer() and call the lemmatize() function on a single word.\n",
        "\n",
        "import nltk\n",
        "from nltk.stem import WordNetLemmatizer \n",
        "\n",
        "# Init the Wordnet Lemmatizer\n",
        "lemmatizer = WordNetLemmatizer()\n",
        "\n",
        "# Lemmatize Single Word\n",
        "print(lemmatizer.lemmatize(\"bats\"))"
      ],
      "metadata": {
        "colab": {
          "base_uri": "https://localhost:8080/"
        },
        "id": "PBuxmzoq1Myu",
        "outputId": "b37fd8eb-0c71-47ba-d7ea-029a6afddd88"
      },
      "execution_count": 15,
      "outputs": [
        {
          "output_type": "stream",
          "name": "stdout",
          "text": [
            "bat\n"
          ]
        }
      ]
    },
    {
      "cell_type": "markdown",
      "source": [
        "\n",
        "#**Lemmatize the whole dataset.**"
      ],
      "metadata": {
        "id": "bnO1HZUE1aPg"
      }
    },
    {
      "cell_type": "code",
      "source": [
        "import textblob\n",
        "from textblob import Word\n",
        "df['lower'].apply(lambda x: \" \".join([Word(word).lemmatize() for word in x.split()]))"
      ],
      "metadata": {
        "colab": {
          "base_uri": "https://localhost:8080/"
        },
        "id": "Z6fVXIk71XGl",
        "outputId": "fe83e99b-4dd2-4ee8-fa72-a02982f2df48"
      },
      "execution_count": 16,
      "outputs": [
        {
          "output_type": "execute_result",
          "data": {
            "text/plain": [
              "0    this is the nlp task article written by abhish...\n",
              "1    in this article ll be explaining various data-...\n",
              "2                    so stay tuned for further more &&\n",
              "3       nah i don\"t think he go to usf, he life around\n",
              "Name: lower, dtype: object"
            ]
          },
          "metadata": {},
          "execution_count": 16
        }
      ]
    },
    {
      "cell_type": "markdown",
      "source": [
        "# **Step 2 Exploratory Data Analysis**"
      ],
      "metadata": {
        "id": "oBoqynyA1xv4"
      }
    },
    {
      "cell_type": "markdown",
      "source": [
        "So far, we have seen the various text preprocessing techniques that must be done after getting the raw data. After cleaning our data, we now can perform exploratory data analysis and explore and understand the text data."
      ],
      "metadata": {
        "id": "jC7JDd3011qE"
      }
    },
    {
      "cell_type": "markdown",
      "source": [
        "# **Word Frequency in Data**\n"
      ],
      "metadata": {
        "id": "TGo6GBtX14T5"
      }
    },
    {
      "cell_type": "markdown",
      "source": [
        "Counting the unique words in our data gives an idea about our data’s most frequent, least frequent terms. Often we drop the least frequent comments to make our model training more generalized.\n",
        "\n",
        "nltk provides Freq_dist class to calculate word frequency, and it takes a bag of words as input."
      ],
      "metadata": {
        "id": "DO7jtgN31-1Y"
      }
    },
    {
      "cell_type": "code",
      "source": [
        "all_words = []\n",
        "for sentence in df['lower']:\n",
        "    all_words.extend(sentence.split())"
      ],
      "metadata": {
        "id": "KjUw1rPh1qat"
      },
      "execution_count": 18,
      "outputs": []
    },
    {
      "cell_type": "code",
      "source": [
        "import nltk\n",
        "from nltk import FreqDist\n",
        "nltk.FreqDist(all_words)\n",
        "     "
      ],
      "metadata": {
        "colab": {
          "base_uri": "https://localhost:8080/"
        },
        "id": "s3A0MNp02HDi",
        "outputId": "dc0b7c7b-f623-4a69-b27b-9af2631ed525"
      },
      "execution_count": 19,
      "outputs": [
        {
          "output_type": "execute_result",
          "data": {
            "text/plain": [
              "FreqDist({'this': 2, 'article': 2, 'he': 2, 'is': 1, 'the': 1, 'nlp': 1, 'tasks': 1, 'written': 1, 'by': 1, 'abhishek': 1, ...})"
            ]
          },
          "metadata": {},
          "execution_count": 19
        }
      ]
    },
    {
      "cell_type": "markdown",
      "source": [
        "# **Word Cloud**"
      ],
      "metadata": {
        "id": "V35jmqAl2aaV"
      }
    },
    {
      "cell_type": "markdown",
      "source": [
        "Wordcloud is the pictorial representation of the word frequency of the dataset.WordCloud is easier to understand and gives a better idea about our textual data.\n",
        "\n",
        "The library wordcloud Let us create a word cloud in a few lines of code.\n",
        "\n",
        "importing libraries :"
      ],
      "metadata": {
        "id": "Ul4Q65ft2cIm"
      }
    },
    {
      "cell_type": "code",
      "source": [
        "from wordcloud import WordCloud\n",
        "from wordcloud import STOPWORDS  \n",
        "import matplotlib.pyplot as plt"
      ],
      "metadata": {
        "id": "PHM1kh5U2hwG"
      },
      "execution_count": 20,
      "outputs": []
    },
    {
      "cell_type": "code",
      "source": [
        "# We can draw a word cloud using text containing all the words of our data.\n",
        "\n",
        "words = []\n",
        "for message in df['lower']:\n",
        "    words.extend([word for word in message.split() if word not in STOPWORDS])\n",
        "        \n",
        "wordcloud = WordCloud(width = 1000, height = 500).generate(\" \".join(words))\n",
        "plt.imshow(wordcloud, interpolation='bilinear')\n",
        "plt.axis(\"off\")\n",
        "plt.show()"
      ],
      "metadata": {
        "colab": {
          "base_uri": "https://localhost:8080/",
          "height": 285
        },
        "id": "FJ_A4GgM2rx7",
        "outputId": "4feea179-9252-4edf-fb52-93f67205e4ae"
      },
      "execution_count": 21,
      "outputs": [
        {
          "output_type": "display_data",
          "data": {
            "text/plain": [
              "<Figure size 640x480 with 1 Axes>"
            ],
            "image/png": "[encoded data removed]"
          },
          "metadata": {}
        }
      ]
    },
    {
      "cell_type": "markdown",
      "source": [
        "\n",
        "\n",
        "*   background_color = 'white' using this parameter, we can change the background colour of the word cloud.\n",
        "\n",
        "\n",
        "\n",
        "*   collocations = False Keeping it as False will ignore the collocation words. Collocations are those words that are formed by those words which occur together. I.e. pay attention, home works, etc.\n",
        "\n",
        "\n",
        "\n",
        "\n",
        "\n",
        "*   We can adjust height and width using the parameters.\n",
        "\n",
        "\n",
        "\n",
        " Note : Before making the word cloud always remove the stopwords.\n",
        "\n",
        "\n",
        "\n",
        "\n",
        "\n",
        "\n"
      ],
      "metadata": {
        "id": "HeuHesv92xCm"
      }
    }
  ]
}